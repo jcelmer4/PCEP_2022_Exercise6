{
 "cells": [
  {
   "cell_type": "markdown",
   "metadata": {},
   "source": [
    "1. Round 4.5667 to the nearest hundreth using a build-in function, round()."
   ]
  },
  {
   "cell_type": "code",
   "execution_count": null,
   "metadata": {},
   "outputs": [],
   "source": [
    "# use round function to round value.\n",
    "print(round(4.5667,2))"
   ]
  },
  {
   "cell_type": "markdown",
   "metadata": {},
   "source": [
    "2. Convert \"657\" to an integer data type"
   ]
  },
  {
   "cell_type": "code",
   "execution_count": null,
   "metadata": {},
   "outputs": [],
   "source": [
    "#Convert string to integer. Use type() function to confirm string was converted to integer\n",
    "convert = \"657\"\n",
    "convert_num = int(convert)\n",
    "print(convert)\n",
    "type(convert_num)"
   ]
  },
  {
   "cell_type": "markdown",
   "metadata": {},
   "source": [
    "3.\n",
    "Write a program to get two numbers from a user. Then, create a secret code where a code consists of 6 numbers and each number is randomly generated number between two numbers from a user. "
   ]
  },
  {
   "cell_type": "code",
   "execution_count": null,
   "metadata": {},
   "outputs": [],
   "source": [
    "# import function random from library \n",
    "import random as rand\n",
    "\n",
    "# custom function to provide six random numbers between a range of two numbers given by the user\n",
    "def random_func(num1, num2):\n",
    "    n1= rand.randint(num1, num2)\n",
    "    n2= rand.randint(num1, num2)\n",
    "    n3= rand.randint(num1, num2)\n",
    "    n4= rand.randint(num1, num2)\n",
    "    n5= rand.randint(num1, num2)\n",
    "    n6= rand.randint(num1, num2)\n",
    "    print(f\"\\nNumber 1 = {n1}\\nNumber 2 = {n2}\\nNumber 3 = {n3}\\nNumber 4 = {n4}\\nNumber 5 = {n5}\\nNumber 6 = {n6}\")\n",
    "    return"
   ]
  },
  {
   "cell_type": "code",
   "execution_count": null,
   "metadata": {},
   "outputs": [],
   "source": [
    "# Prompt user for two numbers\n",
    "num1 = int(input(\"Enter a number: \"))\n",
    "num2 = int(input(\"Enter a second number: \"))\n",
    "\n",
    "#Run the custom function\n",
    "random_func(num1, num2)"
   ]
  },
  {
   "cell_type": "markdown",
   "metadata": {},
   "source": [
    "4.\n",
    "Write a program to center align below text where number of characters per line is 40:\n",
    "\n",
    "    Hickory, dickory, dock,\n",
    "    The mouse ran up the clock.\n",
    "    The clock struck one,\n",
    "    The mouse ran down,\n",
    "    Hickory, dickory, dock\n",
    "\n",
    "<b>Do not use string's center method! </b>"
   ]
  },
  {
   "cell_type": "code",
   "execution_count": null,
   "metadata": {},
   "outputs": [],
   "source": [
    "line1 = \"Hickory, dickory, dock,\"\n",
    "line2 = \"The mouse ran up the clock.\"\n",
    "line3 = \"The clock struck one,\"\n",
    "line4 = \"The mouse ran down,\"\n",
    "line5 = \"Hickory, dickory, dock\"\n",
    "\n",
    "# Set max characters per line\n",
    "max = 40\n",
    "# create function to center each line\n",
    "def center(msg):\n",
    "    x= int(((max - len(msg)))/2)\n",
    "    print(f\" \" *x, msg ,\" \"*x)\n",
    "    return\n",
    "\n",
    "#run the function through each line of wording\n",
    "center(line1)\n",
    "center(line2)\n",
    "center(line3)\n",
    "center(line4)\n",
    "center(line5)\n"
   ]
  },
  {
   "cell_type": "markdown",
   "metadata": {},
   "source": [
    "5. Write a function to calculate the miles per gallon.\n",
    "Get a miles driven and gallons used from a user and call your function to calculate the miles per gallon. "
   ]
  },
  {
   "cell_type": "code",
   "execution_count": null,
   "metadata": {},
   "outputs": [],
   "source": [
    "# function to calculate miles per gallon based on user inputs\n",
    "def compute(miles, gallons) :\n",
    "    mi_per_gallon = miles//gallons\n",
    "    print(f\"The user car operates at {mi_per_gallon} Miles per Gallon\")\n",
    "    return"
   ]
  },
  {
   "cell_type": "code",
   "execution_count": null,
   "metadata": {},
   "outputs": [],
   "source": [
    "# Prompt the user to provide the number of miles and gallons. Add \"int\" to convert input from string to integar\n",
    "miles = int(input(\"Please enter the number of miles driven: \"))\n",
    "gallons = int(input(\"Please enter the number of gallons used: \"))\n",
    "\n",
    "print(\"\")\n",
    "# Run the compute function\n",
    "compute(miles, gallons)"
   ]
  },
  {
   "cell_type": "code",
   "execution_count": null,
   "metadata": {},
   "outputs": [],
   "source": []
  }
 ],
 "metadata": {
  "kernelspec": {
   "display_name": "Python 3 (ipykernel)",
   "language": "python",
   "name": "python3"
  },
  "language_info": {
   "codemirror_mode": {
    "name": "ipython",
    "version": 3
   },
   "file_extension": ".py",
   "mimetype": "text/x-python",
   "name": "python",
   "nbconvert_exporter": "python",
   "pygments_lexer": "ipython3",
   "version": "3.9.12"
  }
 },
 "nbformat": 4,
 "nbformat_minor": 4
}
